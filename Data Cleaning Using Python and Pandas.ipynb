{
 "cells": [
  {
   "cell_type": "markdown",
   "id": "aed3dcc2",
   "metadata": {},
   "source": [
    "## Importing Library"
   ]
  },
  {
   "cell_type": "code",
   "execution_count": 1,
   "id": "f206080b",
   "metadata": {},
   "outputs": [],
   "source": [
    "import pandas as pd"
   ]
  },
  {
   "cell_type": "markdown",
   "id": "2cb4dc2f",
   "metadata": {},
   "source": [
    "## Loading Dataset"
   ]
  },
  {
   "cell_type": "code",
   "execution_count": 2,
   "id": "84e2595c",
   "metadata": {},
   "outputs": [],
   "source": [
    "df= pd.read_csv(\"Netflix.csv\")"
   ]
  },
  {
   "cell_type": "code",
   "execution_count": 3,
   "id": "c8c805c0",
   "metadata": {},
   "outputs": [
    {
     "data": {
      "text/html": [
       "<div>\n",
       "<style scoped>\n",
       "    .dataframe tbody tr th:only-of-type {\n",
       "        vertical-align: middle;\n",
       "    }\n",
       "\n",
       "    .dataframe tbody tr th {\n",
       "        vertical-align: top;\n",
       "    }\n",
       "\n",
       "    .dataframe thead th {\n",
       "        text-align: right;\n",
       "    }\n",
       "</style>\n",
       "<table border=\"1\" class=\"dataframe\">\n",
       "  <thead>\n",
       "    <tr style=\"text-align: right;\">\n",
       "      <th></th>\n",
       "      <th>type</th>\n",
       "      <th>title</th>\n",
       "      <th>date_added</th>\n",
       "      <th>release_year</th>\n",
       "      <th>rating</th>\n",
       "      <th>listed_in</th>\n",
       "    </tr>\n",
       "  </thead>\n",
       "  <tbody>\n",
       "    <tr>\n",
       "      <th>0</th>\n",
       "      <td>Movie</td>\n",
       "      <td>**Dick Johnson Is Dead**</td>\n",
       "      <td>9/25/2021</td>\n",
       "      <td>2020)</td>\n",
       "      <td>,?PG-13</td>\n",
       "      <td>Documentaries</td>\n",
       "    </tr>\n",
       "    <tr>\n",
       "      <th>1</th>\n",
       "      <td>TV Show</td>\n",
       "      <td>**Ganglands**</td>\n",
       "      <td>9/24/2021</td>\n",
       "      <td>2021C</td>\n",
       "      <td>,?TV-MA</td>\n",
       "      <td>Crime TV Shows, International TV Shows, TV Act...</td>\n",
       "    </tr>\n",
       "    <tr>\n",
       "      <th>2</th>\n",
       "      <td>TV Show</td>\n",
       "      <td>**Midnight Mass**</td>\n",
       "      <td>9/24/2021</td>\n",
       "      <td>2021c</td>\n",
       "      <td>,?TV-MA</td>\n",
       "      <td>TV Dramas, TV Horror, TV Mysteries</td>\n",
       "    </tr>\n",
       "    <tr>\n",
       "      <th>3</th>\n",
       "      <td>Movie</td>\n",
       "      <td>**Confessions of an Invisible Girl**</td>\n",
       "      <td>9/22/2021</td>\n",
       "      <td>2021</td>\n",
       "      <td>,?TV-PG</td>\n",
       "      <td>Children &amp; Family Movies, Comedies</td>\n",
       "    </tr>\n",
       "    <tr>\n",
       "      <th>4</th>\n",
       "      <td>Movie</td>\n",
       "      <td>**Sankofa**</td>\n",
       "      <td>9/24/2021</td>\n",
       "      <td>1993S</td>\n",
       "      <td>,?TV-MA</td>\n",
       "      <td>Dramas, Independent Movies, International Movies</td>\n",
       "    </tr>\n",
       "    <tr>\n",
       "      <th>5</th>\n",
       "      <td>TV Show</td>\n",
       "      <td>**The Great British Baking Show**</td>\n",
       "      <td>9/24/2021</td>\n",
       "      <td>2021s</td>\n",
       "      <td>,?TV-14</td>\n",
       "      <td>British TV Shows, Reality TV</td>\n",
       "    </tr>\n",
       "    <tr>\n",
       "      <th>6</th>\n",
       "      <td>NaN</td>\n",
       "      <td>**The Starling**</td>\n",
       "      <td>9/24/2021</td>\n",
       "      <td>2021)</td>\n",
       "      <td>,?PG-13</td>\n",
       "      <td>Comedies, Dramas</td>\n",
       "    </tr>\n",
       "    <tr>\n",
       "      <th>7</th>\n",
       "      <td>Movie</td>\n",
       "      <td>**Motu Patlu in the Game of Zones**</td>\n",
       "      <td>05/01/2021</td>\n",
       "      <td>2019C</td>\n",
       "      <td>,?TV-Y7</td>\n",
       "      <td>Children &amp; Family Movies, Comedies, Music &amp; Mu...</td>\n",
       "    </tr>\n",
       "    <tr>\n",
       "      <th>8</th>\n",
       "      <td>Movie</td>\n",
       "      <td>**Je Suis Karl**</td>\n",
       "      <td>9/23/2021</td>\n",
       "      <td>2021S</td>\n",
       "      <td>,?TV-MA</td>\n",
       "      <td>Dramas, International Movies</td>\n",
       "    </tr>\n",
       "    <tr>\n",
       "      <th>9</th>\n",
       "      <td>Movie</td>\n",
       "      <td>**Motu Patlu in Wonderland**</td>\n",
       "      <td>05/01/2021</td>\n",
       "      <td>2013</td>\n",
       "      <td>,?TV-Y7</td>\n",
       "      <td>Children &amp; Family Movies, Music &amp; Musicals</td>\n",
       "    </tr>\n",
       "  </tbody>\n",
       "</table>\n",
       "</div>"
      ],
      "text/plain": [
       "      type                                 title  date_added release_year  \\\n",
       "0    Movie              **Dick Johnson Is Dead**   9/25/2021        2020)   \n",
       "1  TV Show                         **Ganglands**   9/24/2021        2021C   \n",
       "2  TV Show                     **Midnight Mass**   9/24/2021        2021c   \n",
       "3    Movie  **Confessions of an Invisible Girl**   9/22/2021         2021   \n",
       "4    Movie                           **Sankofa**   9/24/2021        1993S   \n",
       "5  TV Show     **The Great British Baking Show**   9/24/2021        2021s   \n",
       "6      NaN                      **The Starling**   9/24/2021        2021)   \n",
       "7    Movie   **Motu Patlu in the Game of Zones**  05/01/2021        2019C   \n",
       "8    Movie                      **Je Suis Karl**   9/23/2021        2021S   \n",
       "9    Movie          **Motu Patlu in Wonderland**  05/01/2021         2013   \n",
       "\n",
       "    rating                                          listed_in  \n",
       "0  ,?PG-13                                      Documentaries  \n",
       "1  ,?TV-MA  Crime TV Shows, International TV Shows, TV Act...  \n",
       "2  ,?TV-MA                 TV Dramas, TV Horror, TV Mysteries  \n",
       "3  ,?TV-PG                 Children & Family Movies, Comedies  \n",
       "4  ,?TV-MA   Dramas, Independent Movies, International Movies  \n",
       "5  ,?TV-14                       British TV Shows, Reality TV  \n",
       "6  ,?PG-13                                   Comedies, Dramas  \n",
       "7  ,?TV-Y7  Children & Family Movies, Comedies, Music & Mu...  \n",
       "8  ,?TV-MA                       Dramas, International Movies  \n",
       "9  ,?TV-Y7         Children & Family Movies, Music & Musicals  "
      ]
     },
     "execution_count": 3,
     "metadata": {},
     "output_type": "execute_result"
    }
   ],
   "source": [
    "df.head(10)"
   ]
  },
  {
   "cell_type": "markdown",
   "id": "d271fd76",
   "metadata": {},
   "source": [
    "We can see that there are lot of discrepancies in the dataset  \\\n",
    "For example, 'title' , 'release_year' , 'rating' columns contain messy values (bad char)  \\\n",
    "'type' column has null values "
   ]
  },
  {
   "cell_type": "markdown",
   "id": "f8b70f61",
   "metadata": {},
   "source": [
    "## Identifying columns with missing values"
   ]
  },
  {
   "cell_type": "code",
   "execution_count": 4,
   "id": "0cdbd019",
   "metadata": {},
   "outputs": [
    {
     "name": "stdout",
     "output_type": "stream",
     "text": [
      "<class 'pandas.core.frame.DataFrame'>\n",
      "RangeIndex: 4001 entries, 0 to 4000\n",
      "Data columns (total 6 columns):\n",
      " #   Column        Non-Null Count  Dtype \n",
      "---  ------        --------------  ----- \n",
      " 0   type          3934 non-null   object\n",
      " 1   title         4001 non-null   object\n",
      " 2   date_added    4001 non-null   object\n",
      " 3   release_year  4001 non-null   object\n",
      " 4   rating        4001 non-null   object\n",
      " 5   listed_in     4001 non-null   object\n",
      "dtypes: object(6)\n",
      "memory usage: 187.7+ KB\n"
     ]
    }
   ],
   "source": [
    "df.info()"
   ]
  },
  {
   "cell_type": "markdown",
   "id": "962d643f",
   "metadata": {},
   "source": [
    "**identified column with missing values : 'type'**"
   ]
  },
  {
   "cell_type": "markdown",
   "id": "27691e86",
   "metadata": {},
   "source": [
    "## Handling Missing Data"
   ]
  },
  {
   "cell_type": "code",
   "execution_count": 5,
   "id": "70707032",
   "metadata": {},
   "outputs": [],
   "source": [
    "df['type'] = df['type'].astype(str)"
   ]
  },
  {
   "cell_type": "code",
   "execution_count": 6,
   "id": "eeb29a33",
   "metadata": {
    "scrolled": true
   },
   "outputs": [],
   "source": [
    "df['type'] = df['type'].replace(['nan' , 'Nan'] , 'Unknown')"
   ]
  },
  {
   "cell_type": "markdown",
   "id": "bf3f367c",
   "metadata": {},
   "source": [
    "**checking if there is any missing value left**"
   ]
  },
  {
   "cell_type": "code",
   "execution_count": 8,
   "id": "a7b2201e",
   "metadata": {},
   "outputs": [
    {
     "data": {
      "text/plain": [
       "type            0\n",
       "title           0\n",
       "date_added      0\n",
       "release_year    0\n",
       "rating          0\n",
       "listed_in       0\n",
       "dtype: int64"
      ]
     },
     "execution_count": 8,
     "metadata": {},
     "output_type": "execute_result"
    }
   ],
   "source": [
    "df.isna().sum()"
   ]
  },
  {
   "cell_type": "markdown",
   "id": "116c3512",
   "metadata": {},
   "source": [
    "***No more missing values***"
   ]
  },
  {
   "cell_type": "markdown",
   "id": "508d8b3b",
   "metadata": {},
   "source": [
    "## Handling Messy Data"
   ]
  },
  {
   "cell_type": "markdown",
   "id": "36974692",
   "metadata": {},
   "source": [
    "### Removing \"**\" from the \"title\" column."
   ]
  },
  {
   "cell_type": "code",
   "execution_count": 9,
   "id": "c0cd866b",
   "metadata": {},
   "outputs": [
    {
     "data": {
      "text/plain": [
       "0                   Dick Johnson Is Dead\n",
       "1                              Ganglands\n",
       "2                          Midnight Mass\n",
       "3       Confessions of an Invisible Girl\n",
       "4                                Sankofa\n",
       "                      ...               \n",
       "3996                          One 2 Ka 4\n",
       "3997       Jim Norton: Mouthful of Shame\n",
       "3998                          100 Meters\n",
       "3999                       Burning Sands\n",
       "4000               The Butterfly's Dream\n",
       "Name: title, Length: 4001, dtype: object"
      ]
     },
     "execution_count": 9,
     "metadata": {},
     "output_type": "execute_result"
    }
   ],
   "source": [
    "df['title'] = df['title'].str.strip(\"**\")\n",
    "df['title'] "
   ]
  },
  {
   "cell_type": "markdown",
   "id": "dc3b71b1",
   "metadata": {},
   "source": [
    "### Converting the date format from \"9/25/2021\" to \"9-25-2021\".\n"
   ]
  },
  {
   "cell_type": "code",
   "execution_count": 10,
   "id": "eae0560c",
   "metadata": {},
   "outputs": [
    {
     "data": {
      "text/plain": [
       "0        9-25-2021\n",
       "1        9-24-2021\n",
       "2        9-24-2021\n",
       "3        9-22-2021\n",
       "4        9-24-2021\n",
       "           ...    \n",
       "3996     3-15-2017\n",
       "3997     3-14-2017\n",
       "3998    03-10-2017\n",
       "3999    03-10-2017\n",
       "4000    03-10-2017\n",
       "Name: date_added, Length: 4001, dtype: object"
      ]
     },
     "execution_count": 10,
     "metadata": {},
     "output_type": "execute_result"
    }
   ],
   "source": [
    "df['date_added'] = df['date_added'].str.replace('/','-')\n",
    "df['date_added']"
   ]
  },
  {
   "cell_type": "markdown",
   "id": "fea36b81",
   "metadata": {},
   "source": [
    "### Converting the dtype into 'datetime'"
   ]
  },
  {
   "cell_type": "code",
   "execution_count": 19,
   "id": "9f25339a",
   "metadata": {},
   "outputs": [
    {
     "data": {
      "text/plain": [
       "0      2021-09-25\n",
       "1      2021-09-24\n",
       "2      2021-09-24\n",
       "3      2021-09-22\n",
       "4      2021-09-24\n",
       "          ...    \n",
       "3996   2017-03-15\n",
       "3997   2017-03-14\n",
       "3998   2017-03-10\n",
       "3999   2017-03-10\n",
       "4000   2017-03-10\n",
       "Name: date_added, Length: 4001, dtype: datetime64[ns]"
      ]
     },
     "execution_count": 19,
     "metadata": {},
     "output_type": "execute_result"
    }
   ],
   "source": [
    "df['date_added'] = pd.to_datetime(df['date_added'] , format = '%m-%d-%Y')\n",
    "df['date_added']"
   ]
  },
  {
   "cell_type": "markdown",
   "id": "72304fdc",
   "metadata": {},
   "source": [
    "### Cleaning the \"release_year\" column by removing bad characters\n"
   ]
  },
  {
   "cell_type": "code",
   "execution_count": 12,
   "id": "4cb04e16",
   "metadata": {
    "scrolled": true
   },
   "outputs": [
    {
     "name": "stderr",
     "output_type": "stream",
     "text": [
      "C:\\Users\\HP\\AppData\\Local\\Temp\\ipykernel_16672\\546611212.py:4: FutureWarning: The default value of regex will change from True to False in a future version. In addition, single character regular expressions will *not* be treated as literal strings when regex=True.\n",
      "  df[\"release_year\"] = df[\"release_year\"].str.replace(i, \"\")\n"
     ]
    }
   ],
   "source": [
    "bad_char = [\"(\" , \")\" , \"c\" , \"C\" , \".\" , \" \" , \"S\" , \"s\"]\n",
    "\n",
    "for i in bad_char:\n",
    "    df[\"release_year\"] = df[\"release_year\"].str.replace(i, \"\")"
   ]
  },
  {
   "cell_type": "code",
   "execution_count": 13,
   "id": "776e1fe2",
   "metadata": {},
   "outputs": [
    {
     "data": {
      "text/plain": [
       "0       2020\n",
       "1       2021\n",
       "2       2021\n",
       "3       2021\n",
       "4       1993\n",
       "        ... \n",
       "3996    2001\n",
       "3997    2017\n",
       "3998    2016\n",
       "3999    2017\n",
       "4000    2013\n",
       "Name: release_year, Length: 4001, dtype: int32"
      ]
     },
     "execution_count": 13,
     "metadata": {},
     "output_type": "execute_result"
    }
   ],
   "source": [
    "df[\"release_year\"] = df[\"release_year\"].astype(int)\n",
    "df[\"release_year\"]"
   ]
  },
  {
   "cell_type": "markdown",
   "id": "3f8e27f5",
   "metadata": {},
   "source": [
    "### Cleaning the \"rating\" column by removing \",?\" "
   ]
  },
  {
   "cell_type": "code",
   "execution_count": 14,
   "id": "6a74c72c",
   "metadata": {},
   "outputs": [
    {
     "data": {
      "text/plain": [
       "0       PG-13\n",
       "1       TV-MA\n",
       "2       TV-MA\n",
       "3       TV-PG\n",
       "4       TV-MA\n",
       "        ...  \n",
       "3996    TV-14\n",
       "3997    TV-MA\n",
       "3998    TV-MA\n",
       "3999    TV-MA\n",
       "4000    TV-PG\n",
       "Name: rating, Length: 4001, dtype: object"
      ]
     },
     "execution_count": 14,
     "metadata": {},
     "output_type": "execute_result"
    }
   ],
   "source": [
    "df['rating'] = df['rating'].str.strip(',?')\n",
    "df['rating']"
   ]
  },
  {
   "cell_type": "markdown",
   "id": "4cf9c511",
   "metadata": {},
   "source": [
    "## Keeping Only the Relevant Data`"
   ]
  },
  {
   "cell_type": "markdown",
   "id": "5108386f",
   "metadata": {},
   "source": [
    "### Split the last column (\"listed_in\") using commas. "
   ]
  },
  {
   "cell_type": "code",
   "execution_count": 15,
   "id": "83be0c11",
   "metadata": {
    "scrolled": false
   },
   "outputs": [
    {
     "data": {
      "text/html": [
       "<div>\n",
       "<style scoped>\n",
       "    .dataframe tbody tr th:only-of-type {\n",
       "        vertical-align: middle;\n",
       "    }\n",
       "\n",
       "    .dataframe tbody tr th {\n",
       "        vertical-align: top;\n",
       "    }\n",
       "\n",
       "    .dataframe thead th {\n",
       "        text-align: right;\n",
       "    }\n",
       "</style>\n",
       "<table border=\"1\" class=\"dataframe\">\n",
       "  <thead>\n",
       "    <tr style=\"text-align: right;\">\n",
       "      <th></th>\n",
       "      <th>0</th>\n",
       "      <th>1</th>\n",
       "      <th>2</th>\n",
       "    </tr>\n",
       "  </thead>\n",
       "  <tbody>\n",
       "    <tr>\n",
       "      <th>0</th>\n",
       "      <td>Documentaries</td>\n",
       "      <td>None</td>\n",
       "      <td>None</td>\n",
       "    </tr>\n",
       "    <tr>\n",
       "      <th>1</th>\n",
       "      <td>Crime TV Shows</td>\n",
       "      <td>International TV Shows</td>\n",
       "      <td>TV Action &amp; Adventure</td>\n",
       "    </tr>\n",
       "    <tr>\n",
       "      <th>2</th>\n",
       "      <td>TV Dramas</td>\n",
       "      <td>TV Horror</td>\n",
       "      <td>TV Mysteries</td>\n",
       "    </tr>\n",
       "    <tr>\n",
       "      <th>3</th>\n",
       "      <td>Children &amp; Family Movies</td>\n",
       "      <td>Comedies</td>\n",
       "      <td>None</td>\n",
       "    </tr>\n",
       "    <tr>\n",
       "      <th>4</th>\n",
       "      <td>Dramas</td>\n",
       "      <td>Independent Movies</td>\n",
       "      <td>International Movies</td>\n",
       "    </tr>\n",
       "    <tr>\n",
       "      <th>...</th>\n",
       "      <td>...</td>\n",
       "      <td>...</td>\n",
       "      <td>...</td>\n",
       "    </tr>\n",
       "    <tr>\n",
       "      <th>3996</th>\n",
       "      <td>Action &amp; Adventure</td>\n",
       "      <td>Comedies</td>\n",
       "      <td>Dramas</td>\n",
       "    </tr>\n",
       "    <tr>\n",
       "      <th>3997</th>\n",
       "      <td>Stand-Up Comedy</td>\n",
       "      <td>None</td>\n",
       "      <td>None</td>\n",
       "    </tr>\n",
       "    <tr>\n",
       "      <th>3998</th>\n",
       "      <td>Dramas</td>\n",
       "      <td>International Movies</td>\n",
       "      <td>Sports Movies</td>\n",
       "    </tr>\n",
       "    <tr>\n",
       "      <th>3999</th>\n",
       "      <td>Dramas</td>\n",
       "      <td>Independent Movies</td>\n",
       "      <td>None</td>\n",
       "    </tr>\n",
       "    <tr>\n",
       "      <th>4000</th>\n",
       "      <td>Dramas</td>\n",
       "      <td>International Movies</td>\n",
       "      <td>Romantic Movies</td>\n",
       "    </tr>\n",
       "  </tbody>\n",
       "</table>\n",
       "<p>4001 rows × 3 columns</p>\n",
       "</div>"
      ],
      "text/plain": [
       "                             0                        1  \\\n",
       "0                Documentaries                     None   \n",
       "1               Crime TV Shows   International TV Shows   \n",
       "2                    TV Dramas                TV Horror   \n",
       "3     Children & Family Movies                 Comedies   \n",
       "4                       Dramas       Independent Movies   \n",
       "...                        ...                      ...   \n",
       "3996        Action & Adventure                 Comedies   \n",
       "3997           Stand-Up Comedy                     None   \n",
       "3998                    Dramas     International Movies   \n",
       "3999                    Dramas       Independent Movies   \n",
       "4000                    Dramas     International Movies   \n",
       "\n",
       "                           2  \n",
       "0                       None  \n",
       "1      TV Action & Adventure  \n",
       "2               TV Mysteries  \n",
       "3                       None  \n",
       "4       International Movies  \n",
       "...                      ...  \n",
       "3996                  Dramas  \n",
       "3997                    None  \n",
       "3998           Sports Movies  \n",
       "3999                    None  \n",
       "4000         Romantic Movies  \n",
       "\n",
       "[4001 rows x 3 columns]"
      ]
     },
     "execution_count": 15,
     "metadata": {},
     "output_type": "execute_result"
    }
   ],
   "source": [
    "df['listed_in'].str.split(',' , expand = True)"
   ]
  },
  {
   "cell_type": "markdown",
   "id": "a4ddb40f",
   "metadata": {},
   "source": [
    "### Keeping only the first category from the split list."
   ]
  },
  {
   "cell_type": "code",
   "execution_count": 16,
   "id": "182a3e3b",
   "metadata": {},
   "outputs": [
    {
     "data": {
      "text/html": [
       "<div>\n",
       "<style scoped>\n",
       "    .dataframe tbody tr th:only-of-type {\n",
       "        vertical-align: middle;\n",
       "    }\n",
       "\n",
       "    .dataframe tbody tr th {\n",
       "        vertical-align: top;\n",
       "    }\n",
       "\n",
       "    .dataframe thead th {\n",
       "        text-align: right;\n",
       "    }\n",
       "</style>\n",
       "<table border=\"1\" class=\"dataframe\">\n",
       "  <thead>\n",
       "    <tr style=\"text-align: right;\">\n",
       "      <th></th>\n",
       "      <th>type</th>\n",
       "      <th>title</th>\n",
       "      <th>date_added</th>\n",
       "      <th>release_year</th>\n",
       "      <th>rating</th>\n",
       "      <th>listed_in</th>\n",
       "    </tr>\n",
       "  </thead>\n",
       "  <tbody>\n",
       "    <tr>\n",
       "      <th>0</th>\n",
       "      <td>Movie</td>\n",
       "      <td>Dick Johnson Is Dead</td>\n",
       "      <td>9-25-2021</td>\n",
       "      <td>2020</td>\n",
       "      <td>PG-13</td>\n",
       "      <td>Documentaries</td>\n",
       "    </tr>\n",
       "    <tr>\n",
       "      <th>1</th>\n",
       "      <td>TV Show</td>\n",
       "      <td>Ganglands</td>\n",
       "      <td>9-24-2021</td>\n",
       "      <td>2021</td>\n",
       "      <td>TV-MA</td>\n",
       "      <td>Crime TV Shows</td>\n",
       "    </tr>\n",
       "    <tr>\n",
       "      <th>2</th>\n",
       "      <td>TV Show</td>\n",
       "      <td>Midnight Mass</td>\n",
       "      <td>9-24-2021</td>\n",
       "      <td>2021</td>\n",
       "      <td>TV-MA</td>\n",
       "      <td>TV Dramas</td>\n",
       "    </tr>\n",
       "    <tr>\n",
       "      <th>3</th>\n",
       "      <td>Movie</td>\n",
       "      <td>Confessions of an Invisible Girl</td>\n",
       "      <td>9-22-2021</td>\n",
       "      <td>2021</td>\n",
       "      <td>TV-PG</td>\n",
       "      <td>Children &amp; Family Movies</td>\n",
       "    </tr>\n",
       "    <tr>\n",
       "      <th>4</th>\n",
       "      <td>Movie</td>\n",
       "      <td>Sankofa</td>\n",
       "      <td>9-24-2021</td>\n",
       "      <td>1993</td>\n",
       "      <td>TV-MA</td>\n",
       "      <td>Dramas</td>\n",
       "    </tr>\n",
       "    <tr>\n",
       "      <th>...</th>\n",
       "      <td>...</td>\n",
       "      <td>...</td>\n",
       "      <td>...</td>\n",
       "      <td>...</td>\n",
       "      <td>...</td>\n",
       "      <td>...</td>\n",
       "    </tr>\n",
       "    <tr>\n",
       "      <th>3996</th>\n",
       "      <td>Movie</td>\n",
       "      <td>One 2 Ka 4</td>\n",
       "      <td>3-15-2017</td>\n",
       "      <td>2001</td>\n",
       "      <td>TV-14</td>\n",
       "      <td>Action &amp; Adventure</td>\n",
       "    </tr>\n",
       "    <tr>\n",
       "      <th>3997</th>\n",
       "      <td>Movie</td>\n",
       "      <td>Jim Norton: Mouthful of Shame</td>\n",
       "      <td>3-14-2017</td>\n",
       "      <td>2017</td>\n",
       "      <td>TV-MA</td>\n",
       "      <td>Stand-Up Comedy</td>\n",
       "    </tr>\n",
       "    <tr>\n",
       "      <th>3998</th>\n",
       "      <td>Movie</td>\n",
       "      <td>100 Meters</td>\n",
       "      <td>03-10-2017</td>\n",
       "      <td>2016</td>\n",
       "      <td>TV-MA</td>\n",
       "      <td>Dramas</td>\n",
       "    </tr>\n",
       "    <tr>\n",
       "      <th>3999</th>\n",
       "      <td>Movie</td>\n",
       "      <td>Burning Sands</td>\n",
       "      <td>03-10-2017</td>\n",
       "      <td>2017</td>\n",
       "      <td>TV-MA</td>\n",
       "      <td>Dramas</td>\n",
       "    </tr>\n",
       "    <tr>\n",
       "      <th>4000</th>\n",
       "      <td>Movie</td>\n",
       "      <td>The Butterfly's Dream</td>\n",
       "      <td>03-10-2017</td>\n",
       "      <td>2013</td>\n",
       "      <td>TV-PG</td>\n",
       "      <td>Dramas</td>\n",
       "    </tr>\n",
       "  </tbody>\n",
       "</table>\n",
       "<p>4001 rows × 6 columns</p>\n",
       "</div>"
      ],
      "text/plain": [
       "         type                             title  date_added  release_year  \\\n",
       "0       Movie              Dick Johnson Is Dead   9-25-2021          2020   \n",
       "1     TV Show                         Ganglands   9-24-2021          2021   \n",
       "2     TV Show                     Midnight Mass   9-24-2021          2021   \n",
       "3       Movie  Confessions of an Invisible Girl   9-22-2021          2021   \n",
       "4       Movie                           Sankofa   9-24-2021          1993   \n",
       "...       ...                               ...         ...           ...   \n",
       "3996    Movie                        One 2 Ka 4   3-15-2017          2001   \n",
       "3997    Movie     Jim Norton: Mouthful of Shame   3-14-2017          2017   \n",
       "3998    Movie                        100 Meters  03-10-2017          2016   \n",
       "3999    Movie                     Burning Sands  03-10-2017          2017   \n",
       "4000    Movie             The Butterfly's Dream  03-10-2017          2013   \n",
       "\n",
       "     rating                 listed_in  \n",
       "0     PG-13             Documentaries  \n",
       "1     TV-MA            Crime TV Shows  \n",
       "2     TV-MA                 TV Dramas  \n",
       "3     TV-PG  Children & Family Movies  \n",
       "4     TV-MA                    Dramas  \n",
       "...     ...                       ...  \n",
       "3996  TV-14        Action & Adventure  \n",
       "3997  TV-MA           Stand-Up Comedy  \n",
       "3998  TV-MA                    Dramas  \n",
       "3999  TV-MA                    Dramas  \n",
       "4000  TV-PG                    Dramas  \n",
       "\n",
       "[4001 rows x 6 columns]"
      ]
     },
     "execution_count": 16,
     "metadata": {},
     "output_type": "execute_result"
    }
   ],
   "source": [
    "df['listed_in'].str.split(',' , expand = True)[0]\n",
    "df['listed_in'] = df['listed_in'].str.split(',' , expand = True)[0]\n",
    "df['listed_in']\n",
    "\n",
    "# cross checking the 'listed_in' column.\n",
    "df"
   ]
  },
  {
   "cell_type": "markdown",
   "id": "84ef7736",
   "metadata": {},
   "source": [
    "### Now, when we look at our data, we can see that there are no missing or messy values. Lastly, our data is in the tidy data format."
   ]
  }
 ],
 "metadata": {
  "kernelspec": {
   "display_name": "Python 3 (ipykernel)",
   "language": "python",
   "name": "python3"
  },
  "language_info": {
   "codemirror_mode": {
    "name": "ipython",
    "version": 3
   },
   "file_extension": ".py",
   "mimetype": "text/x-python",
   "name": "python",
   "nbconvert_exporter": "python",
   "pygments_lexer": "ipython3",
   "version": "3.9.13"
  }
 },
 "nbformat": 4,
 "nbformat_minor": 5
}
